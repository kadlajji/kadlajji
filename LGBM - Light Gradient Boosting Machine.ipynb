{
 "cells": [
  {
   "cell_type": "code",
   "execution_count": 1,
   "id": "e59f1f12",
   "metadata": {},
   "outputs": [],
   "source": [
    "# pip install lightgbm"
   ]
  },
  {
   "cell_type": "code",
   "execution_count": 2,
   "id": "f3b198cf",
   "metadata": {},
   "outputs": [],
   "source": [
    "import pandas as pd \n",
    "from sklearn.model_selection import train_test_split\n",
    "from sklearn.metrics import accuracy_score\n",
    "import lightgbm as lgb\n"
   ]
  },
  {
   "cell_type": "code",
   "execution_count": 3,
   "id": "5968821b",
   "metadata": {},
   "outputs": [],
   "source": [
    "df = pd.read_csv('C:\\\\Users\\\\kkdk0001\\\\Desktop\\\\DA\\\\DS\\\\Project 1 (P162) - Teli Churn\\\\telecommunications_churn.csv')"
   ]
  },
  {
   "cell_type": "code",
   "execution_count": 4,
   "id": "b204bb6c",
   "metadata": {},
   "outputs": [],
   "source": [
    "X=df.iloc[:,0:18]"
   ]
  },
  {
   "cell_type": "code",
   "execution_count": 5,
   "id": "36c4b0a5",
   "metadata": {},
   "outputs": [],
   "source": [
    "Y=df.iloc[:,[18]]"
   ]
  },
  {
   "cell_type": "code",
   "execution_count": 6,
   "id": "c867f951",
   "metadata": {},
   "outputs": [],
   "source": [
    "x_train,x_test,y_train,y_test = train_test_split(X,Y, test_size =20, random_state=9)"
   ]
  },
  {
   "cell_type": "code",
   "execution_count": 7,
   "id": "71161dfc",
   "metadata": {},
   "outputs": [
    {
     "data": {
      "text/plain": [
       "(3313, 18)"
      ]
     },
     "execution_count": 7,
     "metadata": {},
     "output_type": "execute_result"
    }
   ],
   "source": [
    "x_train.shape"
   ]
  },
  {
   "cell_type": "code",
   "execution_count": 8,
   "id": "6b400b8c",
   "metadata": {},
   "outputs": [],
   "source": [
    "d_train = lgb.Dataset(x_train, label = y_train)"
   ]
  },
  {
   "cell_type": "code",
   "execution_count": 9,
   "id": "547ef664",
   "metadata": {},
   "outputs": [],
   "source": [
    "# Hyper Parameter tuning"
   ]
  },
  {
   "cell_type": "code",
   "execution_count": 10,
   "id": "80962ca5",
   "metadata": {},
   "outputs": [],
   "source": [
    "params = {}\n",
    "params['learning_rate']= 0.003\n",
    "params['boosting_type']='gbdt'\n",
    "params['objective']='binary'\n",
    "params['metrics']='binary_logloss'\n",
    "params['sub_features']= 0.5\n",
    "params['num_leaves']=10\n",
    "params['min_data']=50\n",
    "params['max_dept']=10"
   ]
  },
  {
   "cell_type": "code",
   "execution_count": 11,
   "id": "4e4b3e65",
   "metadata": {},
   "outputs": [
    {
     "name": "stdout",
     "output_type": "stream",
     "text": [
      "[LightGBM] [Warning] Unknown parameter: max_dept\n",
      "[LightGBM] [Warning] Unknown parameter: sub_features\n",
      "[LightGBM] [Warning] Unknown parameter: max_dept\n",
      "[LightGBM] [Warning] Unknown parameter: sub_features\n",
      "[LightGBM] [Info] Number of positive: 482, number of negative: 2831\n",
      "[LightGBM] [Warning] Auto-choosing col-wise multi-threading, the overhead of testing was 0.000477 seconds.\n",
      "You can set `force_col_wise=true` to remove the overhead.\n",
      "[LightGBM] [Info] Total Bins 2664\n",
      "[LightGBM] [Info] Number of data points in the train set: 3313, number of used features: 18\n",
      "[LightGBM] [Info] [binary:BoostFromScore]: pavg=0.145487 -> initscore=-1.770441\n",
      "[LightGBM] [Info] Start training from score -1.770441\n"
     ]
    }
   ],
   "source": [
    "clf = lgb.train(params,d_train,1500)"
   ]
  },
  {
   "cell_type": "code",
   "execution_count": 12,
   "id": "2e19ba87",
   "metadata": {},
   "outputs": [],
   "source": [
    "y_pred = clf.predict(x_test)"
   ]
  },
  {
   "cell_type": "code",
   "execution_count": 13,
   "id": "50da6f2e",
   "metadata": {},
   "outputs": [],
   "source": [
    "y_pred = [round(value)for value in y_pred]"
   ]
  },
  {
   "cell_type": "code",
   "execution_count": 14,
   "id": "50d8deb1",
   "metadata": {},
   "outputs": [],
   "source": [
    "accuracy = accuracy_score(y_pred,y_test)"
   ]
  },
  {
   "cell_type": "code",
   "execution_count": 15,
   "id": "bf647cec",
   "metadata": {},
   "outputs": [
    {
     "name": "stdout",
     "output_type": "stream",
     "text": [
      "100.0 %\n"
     ]
    }
   ],
   "source": [
    "print(accuracy*100,'%')"
   ]
  },
  {
   "cell_type": "code",
   "execution_count": null,
   "id": "c721d6fd",
   "metadata": {},
   "outputs": [],
   "source": []
  },
  {
   "cell_type": "code",
   "execution_count": null,
   "id": "6745ed0d",
   "metadata": {},
   "outputs": [],
   "source": []
  }
 ],
 "metadata": {
  "kernelspec": {
   "display_name": "Python 3 (ipykernel)",
   "language": "python",
   "name": "python3"
  },
  "language_info": {
   "codemirror_mode": {
    "name": "ipython",
    "version": 3
   },
   "file_extension": ".py",
   "mimetype": "text/x-python",
   "name": "python",
   "nbconvert_exporter": "python",
   "pygments_lexer": "ipython3",
   "version": "3.9.13"
  }
 },
 "nbformat": 4,
 "nbformat_minor": 5
}
