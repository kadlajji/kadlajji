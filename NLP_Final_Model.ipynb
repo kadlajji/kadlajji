{
 "cells": [
  {
   "cell_type": "code",
   "execution_count": 1,
   "id": "1b4ada09",
   "metadata": {},
   "outputs": [],
   "source": [
    "import pandas as pd\n",
    "import numpy as np\n",
    "import re\n",
    "import string\n",
    "from sklearn.feature_extraction.text import CountVectorizer\n",
    "from sklearn.model_selection import train_test_split\n",
    "from sklearn.naive_bayes import MultinomialNB as MB\n",
    "from pickle import dump \n",
    "from pickle import load\n",
    "from keras import models"
   ]
  },
  {
   "cell_type": "code",
   "execution_count": 2,
   "id": "29e4e39f",
   "metadata": {},
   "outputs": [],
   "source": [
    "df = pd.read_excel('C:\\\\Users\\\\kkdk0001\\\\Desktop\\\\DA\\\\DS\\\\Project 2 (P170) -- Hotel Rating Classification\\\\hotel_reviews.xlsx')"
   ]
  },
  {
   "cell_type": "code",
   "execution_count": 3,
   "id": "9b7eecdb",
   "metadata": {},
   "outputs": [],
   "source": [
    "def clean_text(text):\n",
    "    text = text.lower()\n",
    "    text = re.sub('\\[.*?\\]','',text)\n",
    "    text = re.sub('[%s]' % re.escape(string.punctuation),'',text)\n",
    "    text = re.sub('\\w*\\d\\w*','',text)\n",
    "    text = re.sub('[0-9]\" \"]+',\" \",text)\n",
    "    text = re.sub('[''\"\"..]','',text)\n",
    "    return text\n",
    "\n",
    "clean = lambda x:clean_text(x)\n",
    "    "
   ]
  },
  {
   "cell_type": "code",
   "execution_count": 4,
   "id": "2005d9d0",
   "metadata": {},
   "outputs": [],
   "source": [
    "df['Review']= df.Review.apply(clean_text)"
   ]
  },
  {
   "cell_type": "code",
   "execution_count": 5,
   "id": "29d4e47a",
   "metadata": {},
   "outputs": [],
   "source": [
    "def numm(x):\n",
    "    if x in (1,2):\n",
    "         y=1\n",
    "    elif x==3:\n",
    "         y=2\n",
    "    elif x in (4,5):\n",
    "         y=3\n",
    "            \n",
    "    return y   \n"
   ]
  },
  {
   "cell_type": "code",
   "execution_count": 6,
   "id": "7cb92244",
   "metadata": {},
   "outputs": [
    {
     "data": {
      "text/html": [
       "<div>\n",
       "<style scoped>\n",
       "    .dataframe tbody tr th:only-of-type {\n",
       "        vertical-align: middle;\n",
       "    }\n",
       "\n",
       "    .dataframe tbody tr th {\n",
       "        vertical-align: top;\n",
       "    }\n",
       "\n",
       "    .dataframe thead th {\n",
       "        text-align: right;\n",
       "    }\n",
       "</style>\n",
       "<table border=\"1\" class=\"dataframe\">\n",
       "  <thead>\n",
       "    <tr style=\"text-align: right;\">\n",
       "      <th></th>\n",
       "      <th>Review</th>\n",
       "      <th>New_Class</th>\n",
       "    </tr>\n",
       "  </thead>\n",
       "  <tbody>\n",
       "    <tr>\n",
       "      <th>0</th>\n",
       "      <td>nice hotel expensive parking got good deal sta...</td>\n",
       "      <td>3</td>\n",
       "    </tr>\n",
       "    <tr>\n",
       "      <th>1</th>\n",
       "      <td>ok nothing special charge diamond member hilto...</td>\n",
       "      <td>1</td>\n",
       "    </tr>\n",
       "    <tr>\n",
       "      <th>2</th>\n",
       "      <td>nice rooms not  experience hotel monaco seattl...</td>\n",
       "      <td>2</td>\n",
       "    </tr>\n",
       "    <tr>\n",
       "      <th>3</th>\n",
       "      <td>unique great stay wonderful time hotel monaco ...</td>\n",
       "      <td>3</td>\n",
       "    </tr>\n",
       "    <tr>\n",
       "      <th>4</th>\n",
       "      <td>great stay great stay went seahawk game awesom...</td>\n",
       "      <td>3</td>\n",
       "    </tr>\n",
       "    <tr>\n",
       "      <th>...</th>\n",
       "      <td>...</td>\n",
       "      <td>...</td>\n",
       "    </tr>\n",
       "    <tr>\n",
       "      <th>20486</th>\n",
       "      <td>best kept secret  time staying charm not  ca n...</td>\n",
       "      <td>3</td>\n",
       "    </tr>\n",
       "    <tr>\n",
       "      <th>20487</th>\n",
       "      <td>great location price view hotel great quick pl...</td>\n",
       "      <td>3</td>\n",
       "    </tr>\n",
       "    <tr>\n",
       "      <th>20488</th>\n",
       "      <td>ok just looks nice modern outside desk staff n...</td>\n",
       "      <td>1</td>\n",
       "    </tr>\n",
       "    <tr>\n",
       "      <th>20489</th>\n",
       "      <td>hotel theft ruined vacation hotel opened sept ...</td>\n",
       "      <td>1</td>\n",
       "    </tr>\n",
       "    <tr>\n",
       "      <th>20490</th>\n",
       "      <td>people talking ca nt believe excellent ratings...</td>\n",
       "      <td>1</td>\n",
       "    </tr>\n",
       "  </tbody>\n",
       "</table>\n",
       "<p>20491 rows × 2 columns</p>\n",
       "</div>"
      ],
      "text/plain": [
       "                                                  Review  New_Class\n",
       "0      nice hotel expensive parking got good deal sta...          3\n",
       "1      ok nothing special charge diamond member hilto...          1\n",
       "2      nice rooms not  experience hotel monaco seattl...          2\n",
       "3      unique great stay wonderful time hotel monaco ...          3\n",
       "4      great stay great stay went seahawk game awesom...          3\n",
       "...                                                  ...        ...\n",
       "20486  best kept secret  time staying charm not  ca n...          3\n",
       "20487  great location price view hotel great quick pl...          3\n",
       "20488  ok just looks nice modern outside desk staff n...          1\n",
       "20489  hotel theft ruined vacation hotel opened sept ...          1\n",
       "20490  people talking ca nt believe excellent ratings...          1\n",
       "\n",
       "[20491 rows x 2 columns]"
      ]
     },
     "execution_count": 6,
     "metadata": {},
     "output_type": "execute_result"
    }
   ],
   "source": [
    "dfn=df\n",
    "dfn['New_Class']=df['Rating'].apply(numm)\n",
    "dfn=dfn.drop(columns =['Rating'])\n",
    "dfn"
   ]
  },
  {
   "cell_type": "code",
   "execution_count": 7,
   "id": "c0f2ac19",
   "metadata": {},
   "outputs": [],
   "source": [
    "review_train,review_test = train_test_split(dfn, test_size = 0.25)"
   ]
  },
  {
   "cell_type": "code",
   "execution_count": 8,
   "id": "6958a36c",
   "metadata": {},
   "outputs": [],
   "source": [
    "# Multinomial Naive Bayes With New Feature"
   ]
  },
  {
   "cell_type": "code",
   "execution_count": 9,
   "id": "96aa2824",
   "metadata": {},
   "outputs": [],
   "source": [
    "def split_into_words(i):\n",
    "    return(i.split(' '))"
   ]
  },
  {
   "cell_type": "code",
   "execution_count": 10,
   "id": "e15df683",
   "metadata": {},
   "outputs": [],
   "source": [
    "review_bow = CountVectorizer(analyzer = split_into_words).fit(dfn['Review'])"
   ]
  },
  {
   "cell_type": "code",
   "execution_count": 11,
   "id": "39e656e6",
   "metadata": {},
   "outputs": [],
   "source": [
    "review_bow = CountVectorizer(analyzer = split_into_words).fit(dfn['Review'])\n",
    "all_review_matrix = review_bow.transform(dfn['Review'])\n",
    "train_review_matrix = review_bow.transform(review_train['Review'])\n",
    "test_review_matrix = review_bow.transform(review_test['Review'])"
   ]
  },
  {
   "cell_type": "code",
   "execution_count": 12,
   "id": "bf3458b8",
   "metadata": {},
   "outputs": [
    {
     "name": "stdout",
     "output_type": "stream",
     "text": [
      "Train Accuracy = 88\n"
     ]
    }
   ],
   "source": [
    "model = MB()\n",
    "model.fit(train_review_matrix,review_train.New_Class)\n",
    "train_pred_m = model.predict(train_review_matrix)\n",
    "accuracy_train_m = np.mean(train_pred_m==review_train.New_Class)\n",
    "print('Train Accuracy =',round(accuracy_train_m *100))"
   ]
  },
  {
   "cell_type": "code",
   "execution_count": 13,
   "id": "c7161a78",
   "metadata": {},
   "outputs": [
    {
     "name": "stdout",
     "output_type": "stream",
     "text": [
      "Test Accuracy = 83\n"
     ]
    }
   ],
   "source": [
    "test_pred_m = model.predict(test_review_matrix)\n",
    "accuracy_test_m = np.mean(test_pred_m==review_test.New_Class)\n",
    "print('Test Accuracy =',round(accuracy_test_m *100))"
   ]
  },
  {
   "cell_type": "code",
   "execution_count": 14,
   "id": "05701c32",
   "metadata": {},
   "outputs": [],
   "source": [
    "dump(model,open('P2NLPF.sav','wb'))"
   ]
  },
  {
   "cell_type": "code",
   "execution_count": 15,
   "id": "d76431b2",
   "metadata": {},
   "outputs": [],
   "source": [
    "load_model = load (open('P2NLPF.sav','rb'))"
   ]
  },
  {
   "cell_type": "code",
   "execution_count": 16,
   "id": "22cccb36",
   "metadata": {},
   "outputs": [],
   "source": [
    "#pip install streamlit"
   ]
  },
  {
   "cell_type": "code",
   "execution_count": 17,
   "id": "1ed6502a",
   "metadata": {},
   "outputs": [
    {
     "name": "stdout",
     "output_type": "stream",
     "text": [
      "super great\n"
     ]
    }
   ],
   "source": [
    "x= input()"
   ]
  },
  {
   "cell_type": "code",
   "execution_count": 18,
   "id": "030ec9dc",
   "metadata": {},
   "outputs": [],
   "source": [
    "test_review_matrix = review_bow.transform([x])"
   ]
  },
  {
   "cell_type": "code",
   "execution_count": 19,
   "id": "d3ee52f6",
   "metadata": {},
   "outputs": [],
   "source": [
    "test_pred_m = [model.predict(test_review_matrix)]"
   ]
  },
  {
   "cell_type": "code",
   "execution_count": 20,
   "id": "a5e53dea",
   "metadata": {},
   "outputs": [
    {
     "data": {
      "text/plain": [
       "[array([3], dtype=int64)]"
      ]
     },
     "execution_count": 20,
     "metadata": {},
     "output_type": "execute_result"
    }
   ],
   "source": [
    "test_pred_m "
   ]
  },
  {
   "cell_type": "code",
   "execution_count": 21,
   "id": "58101082",
   "metadata": {},
   "outputs": [],
   "source": [
    "prediction_proba = model.predict_proba(test_review_matrix)"
   ]
  },
  {
   "cell_type": "code",
   "execution_count": 22,
   "id": "e6949e57",
   "metadata": {},
   "outputs": [
    {
     "data": {
      "text/plain": [
       "array([[0.0134489 , 0.01190324, 0.97464787]])"
      ]
     },
     "execution_count": 22,
     "metadata": {},
     "output_type": "execute_result"
    }
   ],
   "source": [
    "prediction_proba"
   ]
  }
 ],
 "metadata": {
  "kernelspec": {
   "display_name": "Python 3 (ipykernel)",
   "language": "python",
   "name": "python3"
  },
  "language_info": {
   "codemirror_mode": {
    "name": "ipython",
    "version": 3
   },
   "file_extension": ".py",
   "mimetype": "text/x-python",
   "name": "python",
   "nbconvert_exporter": "python",
   "pygments_lexer": "ipython3",
   "version": "3.9.13"
  }
 },
 "nbformat": 4,
 "nbformat_minor": 5
}
