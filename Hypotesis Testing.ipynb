{
 "cells": [
  {
   "cell_type": "code",
   "execution_count": 1,
   "id": "c1623e63",
   "metadata": {},
   "outputs": [],
   "source": [
    "#   Q1  A F&B manager wants to determine whether there is any significant difference in the diameter of the cutlet between two units. A randomly selected sample of cutlets was collected from both units and measured? Analyze the data and draw inferences at 5% significance level. Please state the assumptions and tests that you carried out to check validity of the assumptions.\n"
   ]
  },
  {
   "cell_type": "code",
   "execution_count": 2,
   "id": "0f7ddc21",
   "metadata": {},
   "outputs": [],
   "source": [
    "%matplotlib inline\n",
    "import numpy as np\n",
    "import scipy as sp\n",
    "import pandas as pd\n",
    "import statsmodels.api as sm\n",
    "import statsmodels.formula.api as smf\n",
    "import matplotlib as mpl\n",
    "import matplotlib.pyplot as plt\n",
    "import seaborn as sns\n",
    "from statsmodels.stats.proportion import proportions_ztest"
   ]
  },
  {
   "cell_type": "code",
   "execution_count": 4,
   "id": "f3a6b169",
   "metadata": {},
   "outputs": [
    {
     "data": {
      "text/html": [
       "<div>\n",
       "<style scoped>\n",
       "    .dataframe tbody tr th:only-of-type {\n",
       "        vertical-align: middle;\n",
       "    }\n",
       "\n",
       "    .dataframe tbody tr th {\n",
       "        vertical-align: top;\n",
       "    }\n",
       "\n",
       "    .dataframe thead th {\n",
       "        text-align: right;\n",
       "    }\n",
       "</style>\n",
       "<table border=\"1\" class=\"dataframe\">\n",
       "  <thead>\n",
       "    <tr style=\"text-align: right;\">\n",
       "      <th></th>\n",
       "      <th>Unit A</th>\n",
       "      <th>Unit B</th>\n",
       "    </tr>\n",
       "  </thead>\n",
       "  <tbody>\n",
       "    <tr>\n",
       "      <th>0</th>\n",
       "      <td>6.8090</td>\n",
       "      <td>6.7703</td>\n",
       "    </tr>\n",
       "    <tr>\n",
       "      <th>1</th>\n",
       "      <td>6.4376</td>\n",
       "      <td>7.5093</td>\n",
       "    </tr>\n",
       "    <tr>\n",
       "      <th>2</th>\n",
       "      <td>6.9157</td>\n",
       "      <td>6.7300</td>\n",
       "    </tr>\n",
       "    <tr>\n",
       "      <th>3</th>\n",
       "      <td>7.3012</td>\n",
       "      <td>6.7878</td>\n",
       "    </tr>\n",
       "    <tr>\n",
       "      <th>4</th>\n",
       "      <td>7.4488</td>\n",
       "      <td>7.1522</td>\n",
       "    </tr>\n",
       "  </tbody>\n",
       "</table>\n",
       "</div>"
      ],
      "text/plain": [
       "   Unit A  Unit B\n",
       "0  6.8090  6.7703\n",
       "1  6.4376  7.5093\n",
       "2  6.9157  6.7300\n",
       "3  7.3012  6.7878\n",
       "4  7.4488  7.1522"
      ]
     },
     "execution_count": 4,
     "metadata": {},
     "output_type": "execute_result"
    }
   ],
   "source": [
    "Q1_data = pd.read_csv(\"C:\\\\Users\\\\kkdk0001\\\\Desktop\\\\DA\\\\DS\\\\Assignments\\\\Hypotesis Testing\\\\Cutlets.csv\")\n",
    "Q1_data.head()"
   ]
  },
  {
   "cell_type": "code",
   "execution_count": 6,
   "id": "0ff8f47d",
   "metadata": {},
   "outputs": [
    {
     "data": {
      "text/html": [
       "<div>\n",
       "<style scoped>\n",
       "    .dataframe tbody tr th:only-of-type {\n",
       "        vertical-align: middle;\n",
       "    }\n",
       "\n",
       "    .dataframe tbody tr th {\n",
       "        vertical-align: top;\n",
       "    }\n",
       "\n",
       "    .dataframe thead th {\n",
       "        text-align: right;\n",
       "    }\n",
       "</style>\n",
       "<table border=\"1\" class=\"dataframe\">\n",
       "  <thead>\n",
       "    <tr style=\"text-align: right;\">\n",
       "      <th></th>\n",
       "      <th>Unit A</th>\n",
       "      <th>Unit B</th>\n",
       "    </tr>\n",
       "  </thead>\n",
       "  <tbody>\n",
       "    <tr>\n",
       "      <th>count</th>\n",
       "      <td>35.000000</td>\n",
       "      <td>35.000000</td>\n",
       "    </tr>\n",
       "    <tr>\n",
       "      <th>mean</th>\n",
       "      <td>7.019091</td>\n",
       "      <td>6.964297</td>\n",
       "    </tr>\n",
       "    <tr>\n",
       "      <th>std</th>\n",
       "      <td>0.288408</td>\n",
       "      <td>0.343401</td>\n",
       "    </tr>\n",
       "    <tr>\n",
       "      <th>min</th>\n",
       "      <td>6.437600</td>\n",
       "      <td>6.038000</td>\n",
       "    </tr>\n",
       "    <tr>\n",
       "      <th>25%</th>\n",
       "      <td>6.831500</td>\n",
       "      <td>6.753600</td>\n",
       "    </tr>\n",
       "    <tr>\n",
       "      <th>50%</th>\n",
       "      <td>6.943800</td>\n",
       "      <td>6.939900</td>\n",
       "    </tr>\n",
       "    <tr>\n",
       "      <th>75%</th>\n",
       "      <td>7.280550</td>\n",
       "      <td>7.195000</td>\n",
       "    </tr>\n",
       "    <tr>\n",
       "      <th>max</th>\n",
       "      <td>7.516900</td>\n",
       "      <td>7.545900</td>\n",
       "    </tr>\n",
       "  </tbody>\n",
       "</table>\n",
       "</div>"
      ],
      "text/plain": [
       "          Unit A     Unit B\n",
       "count  35.000000  35.000000\n",
       "mean    7.019091   6.964297\n",
       "std     0.288408   0.343401\n",
       "min     6.437600   6.038000\n",
       "25%     6.831500   6.753600\n",
       "50%     6.943800   6.939900\n",
       "75%     7.280550   7.195000\n",
       "max     7.516900   7.545900"
      ]
     },
     "execution_count": 6,
     "metadata": {},
     "output_type": "execute_result"
    }
   ],
   "source": [
    "Q1_data.describe()"
   ]
  },
  {
   "cell_type": "code",
   "execution_count": 7,
   "id": "c68cec20",
   "metadata": {},
   "outputs": [
    {
     "name": "stdout",
     "output_type": "stream",
     "text": [
      "Unit A Mean =  7.01909142857143 \n",
      "Unit B Mean =  6.964297142857142\n",
      "Unit A Mean > Unit B Mean =  True\n"
     ]
    }
   ],
   "source": [
    "Unit_A=Q1_data['Unit A'].mean()\n",
    "Unit_B=Q1_data['Unit B'].mean()\n",
    "\n",
    "print('Unit A Mean = ',Unit_A, '\\nUnit B Mean = ',Unit_B)\n",
    "print('Unit A Mean > Unit B Mean = ',Unit_A>Unit_B)"
   ]
  },
  {
   "cell_type": "code",
   "execution_count": 8,
   "id": "939c4420",
   "metadata": {},
   "outputs": [
    {
     "name": "stderr",
     "output_type": "stream",
     "text": [
      "C:\\Users\\kkdk0001\\Anaconda3\\lib\\site-packages\\seaborn\\distributions.py:2619: FutureWarning: `distplot` is a deprecated function and will be removed in a future version. Please adapt your code to use either `displot` (a figure-level function with similar flexibility) or `histplot` (an axes-level function for histograms).\n",
      "  warnings.warn(msg, FutureWarning)\n",
      "C:\\Users\\kkdk0001\\Anaconda3\\lib\\site-packages\\seaborn\\distributions.py:2619: FutureWarning: `distplot` is a deprecated function and will be removed in a future version. Please adapt your code to use either `displot` (a figure-level function with similar flexibility) or `histplot` (an axes-level function for histograms).\n",
      "  warnings.warn(msg, FutureWarning)\n"
     ]
    },
    {
     "data": {
      "text/plain": [
       "<matplotlib.legend.Legend at 0x2554ebd3f10>"
      ]
     },
     "execution_count": 8,
     "metadata": {},
     "output_type": "execute_result"
    },
    {
     "data": {
      "image/png": "[encoded data removed]",
      "text/plain": [
       "<Figure size 432x288 with 1 Axes>"
      ]
     },
     "metadata": {
      "needs_background": "light"
     },
     "output_type": "display_data"
    }
   ],
   "source": [
    "sns.distplot(Q1_data['Unit A'])\n",
    "sns.distplot(Q1_data['Unit B'])\n",
    "plt.legend(['Unit A','Unit B'])"
   ]
  },
  {
   "cell_type": "code",
   "execution_count": 9,
   "id": "34f7e225",
   "metadata": {},
   "outputs": [
    {
     "data": {
      "text/plain": [
       "<matplotlib.legend.Legend at 0x25553c95eb0>"
      ]
     },
     "execution_count": 9,
     "metadata": {},
     "output_type": "execute_result"
    },
    {
     "data": {
      "image/png": "[encoded data removed]",
      "text/plain": [
       "<Figure size 432x288 with 1 Axes>"
      ]
     },
     "metadata": {
      "needs_background": "light"
     },
     "output_type": "display_data"
    }
   ],
   "source": [
    "sns.boxplot(data=[Q1_data['Unit A'],Q1_data['Unit B']],notch=True)\n",
    "plt.legend(['Unit A','Unit B'])"
   ]
  },
  {
   "cell_type": "code",
   "execution_count": 10,
   "id": "a38f3b19",
   "metadata": {},
   "outputs": [
    {
     "name": "stdout",
     "output_type": "stream",
     "text": [
      "    Unit A\n",
      "0   6.8090\n",
      "1   6.4376\n",
      "2   6.9157\n",
      "3   7.3012\n",
      "4   7.4488\n",
      "5   7.3871\n",
      "6   6.8755\n",
      "7   7.0621\n",
      "8   6.6840\n",
      "9   6.8236\n",
      "10  7.3930\n",
      "11  7.5169\n",
      "12  6.9246\n",
      "13  6.9256\n",
      "14  6.5797\n",
      "15  6.8394\n",
      "16  6.5970\n",
      "17  7.2705\n",
      "18  7.2828\n",
      "19  7.3495\n",
      "20  6.9438\n",
      "21  7.1560\n",
      "22  6.5341\n",
      "23  7.2854\n",
      "24  6.9952\n",
      "25  6.8568\n",
      "26  7.2163\n",
      "27  6.6801\n",
      "28  6.9431\n",
      "29  7.0852\n",
      "30  6.7794\n",
      "31  7.2783\n",
      "32  7.1561\n",
      "33  7.3943\n",
      "34  6.9405     Unit B\n",
      "0   6.7703\n",
      "1   7.5093\n",
      "2   6.7300\n",
      "3   6.7878\n",
      "4   7.1522\n",
      "5   6.8110\n",
      "6   7.2212\n",
      "7   6.6606\n",
      "8   7.2402\n",
      "9   7.0503\n",
      "10  6.8810\n",
      "11  7.4059\n",
      "12  6.7652\n",
      "13  6.0380\n",
      "14  7.1581\n",
      "15  7.0240\n",
      "16  6.6672\n",
      "17  7.4314\n",
      "18  7.3070\n",
      "19  6.7478\n",
      "20  6.8889\n",
      "21  7.4220\n",
      "22  6.5217\n",
      "23  7.1688\n",
      "24  6.7594\n",
      "25  6.9399\n",
      "26  7.0133\n",
      "27  6.9182\n",
      "28  6.3346\n",
      "29  7.5459\n",
      "30  7.0992\n",
      "31  7.1180\n",
      "32  6.6965\n",
      "33  6.5780\n",
      "34  7.3875\n"
     ]
    }
   ],
   "source": [
    "alpha=0.05\n",
    "UnitA=pd.DataFrame(Q1_data['Unit A'])\n",
    "UnitB=pd.DataFrame(Q1_data['Unit B'])\n",
    "print(UnitA,UnitB)"
   ]
  },
  {
   "cell_type": "code",
   "execution_count": 11,
   "id": "87a39e07",
   "metadata": {},
   "outputs": [
    {
     "name": "stdout",
     "output_type": "stream",
     "text": [
      "P-Value:[0.47223947] T-Statistic:[0.72286887]\n"
     ]
    }
   ],
   "source": [
    "tStat,pValue =sp.stats.ttest_ind(UnitA,UnitB)\n",
    "print(\"P-Value:{0} T-Statistic:{1}\".format(pValue,tStat))"
   ]
  },
  {
   "cell_type": "code",
   "execution_count": 12,
   "id": "bd05256a",
   "metadata": {},
   "outputs": [
    {
     "name": "stdout",
     "output_type": "stream",
     "text": [
      "we accept null hypothesis\n"
     ]
    }
   ],
   "source": [
    "if pValue <0.05:\n",
    "  print('we reject null hypothesis')\n",
    "else:\n",
    "  print('we accept null hypothesis')"
   ]
  },
  {
   "cell_type": "code",
   "execution_count": 13,
   "id": "744f66c7",
   "metadata": {},
   "outputs": [],
   "source": [
    "#Inference is that there is no significant difference in the diameters of Unit A and Unit B"
   ]
  },
  {
   "cell_type": "code",
   "execution_count": 15,
   "id": "c76b8faf",
   "metadata": {},
   "outputs": [],
   "source": [
    "# Q2    A hospital wants to determine whether there is any difference in the average Turn Around Time (TAT) of reports of the laboratories on their preferred list. They collected a random sample and recorded TAT for reports of 4 laboratories. TAT is defined as sample collected to report dispatch.\n",
    "   #Analyze the data and determine whether there is any difference in average TAT among the different laboratories at 5% significance level.\n"
   ]
  },
  {
   "cell_type": "code",
   "execution_count": 16,
   "id": "00412759",
   "metadata": {},
   "outputs": [
    {
     "data": {
      "text/html": [
       "<div>\n",
       "<style scoped>\n",
       "    .dataframe tbody tr th:only-of-type {\n",
       "        vertical-align: middle;\n",
       "    }\n",
       "\n",
       "    .dataframe tbody tr th {\n",
       "        vertical-align: top;\n",
       "    }\n",
       "\n",
       "    .dataframe thead th {\n",
       "        text-align: right;\n",
       "    }\n",
       "</style>\n",
       "<table border=\"1\" class=\"dataframe\">\n",
       "  <thead>\n",
       "    <tr style=\"text-align: right;\">\n",
       "      <th></th>\n",
       "      <th>Laboratory 1</th>\n",
       "      <th>Laboratory 2</th>\n",
       "      <th>Laboratory 3</th>\n",
       "      <th>Laboratory 4</th>\n",
       "    </tr>\n",
       "  </thead>\n",
       "  <tbody>\n",
       "    <tr>\n",
       "      <th>0</th>\n",
       "      <td>185.35</td>\n",
       "      <td>165.53</td>\n",
       "      <td>176.70</td>\n",
       "      <td>166.13</td>\n",
       "    </tr>\n",
       "    <tr>\n",
       "      <th>1</th>\n",
       "      <td>170.49</td>\n",
       "      <td>185.91</td>\n",
       "      <td>198.45</td>\n",
       "      <td>160.79</td>\n",
       "    </tr>\n",
       "    <tr>\n",
       "      <th>2</th>\n",
       "      <td>192.77</td>\n",
       "      <td>194.92</td>\n",
       "      <td>201.23</td>\n",
       "      <td>185.18</td>\n",
       "    </tr>\n",
       "    <tr>\n",
       "      <th>3</th>\n",
       "      <td>177.33</td>\n",
       "      <td>183.00</td>\n",
       "      <td>199.61</td>\n",
       "      <td>176.42</td>\n",
       "    </tr>\n",
       "    <tr>\n",
       "      <th>4</th>\n",
       "      <td>193.41</td>\n",
       "      <td>169.57</td>\n",
       "      <td>204.63</td>\n",
       "      <td>152.60</td>\n",
       "    </tr>\n",
       "  </tbody>\n",
       "</table>\n",
       "</div>"
      ],
      "text/plain": [
       "   Laboratory 1  Laboratory 2  Laboratory 3  Laboratory 4\n",
       "0        185.35        165.53        176.70        166.13\n",
       "1        170.49        185.91        198.45        160.79\n",
       "2        192.77        194.92        201.23        185.18\n",
       "3        177.33        183.00        199.61        176.42\n",
       "4        193.41        169.57        204.63        152.60"
      ]
     },
     "execution_count": 16,
     "metadata": {},
     "output_type": "execute_result"
    }
   ],
   "source": [
    "LabTAT =pd.read_csv('C:\\\\Users\\\\kkdk0001\\\\Desktop\\\\DA\\\\DS\\\\Assignments\\\\Hypotesis Testing\\\\LabTAT.csv')\n",
    "LabTAT.head()"
   ]
  },
  {
   "cell_type": "code",
   "execution_count": 17,
   "id": "e60ac0e1",
   "metadata": {},
   "outputs": [
    {
     "data": {
      "text/html": [
       "<div>\n",
       "<style scoped>\n",
       "    .dataframe tbody tr th:only-of-type {\n",
       "        vertical-align: middle;\n",
       "    }\n",
       "\n",
       "    .dataframe tbody tr th {\n",
       "        vertical-align: top;\n",
       "    }\n",
       "\n",
       "    .dataframe thead th {\n",
       "        text-align: right;\n",
       "    }\n",
       "</style>\n",
       "<table border=\"1\" class=\"dataframe\">\n",
       "  <thead>\n",
       "    <tr style=\"text-align: right;\">\n",
       "      <th></th>\n",
       "      <th>Laboratory 1</th>\n",
       "      <th>Laboratory 2</th>\n",
       "      <th>Laboratory 3</th>\n",
       "      <th>Laboratory 4</th>\n",
       "    </tr>\n",
       "  </thead>\n",
       "  <tbody>\n",
       "    <tr>\n",
       "      <th>count</th>\n",
       "      <td>120.000000</td>\n",
       "      <td>120.000000</td>\n",
       "      <td>120.000000</td>\n",
       "      <td>120.00000</td>\n",
       "    </tr>\n",
       "    <tr>\n",
       "      <th>mean</th>\n",
       "      <td>178.361583</td>\n",
       "      <td>178.902917</td>\n",
       "      <td>199.913250</td>\n",
       "      <td>163.68275</td>\n",
       "    </tr>\n",
       "    <tr>\n",
       "      <th>std</th>\n",
       "      <td>13.173594</td>\n",
       "      <td>14.957114</td>\n",
       "      <td>16.539033</td>\n",
       "      <td>15.08508</td>\n",
       "    </tr>\n",
       "    <tr>\n",
       "      <th>min</th>\n",
       "      <td>138.300000</td>\n",
       "      <td>140.550000</td>\n",
       "      <td>159.690000</td>\n",
       "      <td>124.06000</td>\n",
       "    </tr>\n",
       "    <tr>\n",
       "      <th>25%</th>\n",
       "      <td>170.335000</td>\n",
       "      <td>168.025000</td>\n",
       "      <td>188.232500</td>\n",
       "      <td>154.05000</td>\n",
       "    </tr>\n",
       "    <tr>\n",
       "      <th>50%</th>\n",
       "      <td>178.530000</td>\n",
       "      <td>178.870000</td>\n",
       "      <td>199.805000</td>\n",
       "      <td>164.42500</td>\n",
       "    </tr>\n",
       "    <tr>\n",
       "      <th>75%</th>\n",
       "      <td>186.535000</td>\n",
       "      <td>189.112500</td>\n",
       "      <td>211.332500</td>\n",
       "      <td>172.88250</td>\n",
       "    </tr>\n",
       "    <tr>\n",
       "      <th>max</th>\n",
       "      <td>216.390000</td>\n",
       "      <td>217.860000</td>\n",
       "      <td>238.700000</td>\n",
       "      <td>205.18000</td>\n",
       "    </tr>\n",
       "  </tbody>\n",
       "</table>\n",
       "</div>"
      ],
      "text/plain": [
       "       Laboratory 1  Laboratory 2  Laboratory 3  Laboratory 4\n",
       "count    120.000000    120.000000    120.000000     120.00000\n",
       "mean     178.361583    178.902917    199.913250     163.68275\n",
       "std       13.173594     14.957114     16.539033      15.08508\n",
       "min      138.300000    140.550000    159.690000     124.06000\n",
       "25%      170.335000    168.025000    188.232500     154.05000\n",
       "50%      178.530000    178.870000    199.805000     164.42500\n",
       "75%      186.535000    189.112500    211.332500     172.88250\n",
       "max      216.390000    217.860000    238.700000     205.18000"
      ]
     },
     "execution_count": 17,
     "metadata": {},
     "output_type": "execute_result"
    }
   ],
   "source": [
    "LabTAT.describe()"
   ]
  },
  {
   "cell_type": "code",
   "execution_count": 18,
   "id": "60a951e5",
   "metadata": {},
   "outputs": [
    {
     "name": "stdout",
     "output_type": "stream",
     "text": [
      "Laboratory 1 Mean =  178.36158333333339\n",
      "Laboratory 2 Mean =  178.9029166666668\n",
      "Laboratory 3 Mean =  199.91325000000003\n",
      "Laboratory 4 Mean =  163.6827499999999\n"
     ]
    }
   ],
   "source": [
    "Laboratory_1=LabTAT['Laboratory 1'].mean()\n",
    "Laboratory_2=LabTAT['Laboratory 2'].mean()\n",
    "Laboratory_3=LabTAT['Laboratory 3'].mean()\n",
    "Laboratory_4=LabTAT['Laboratory 4'].mean()\n",
    "\n",
    "print('Laboratory 1 Mean = ',Laboratory_1)\n",
    "print('Laboratory 2 Mean = ',Laboratory_2)\n",
    "print('Laboratory 3 Mean = ',Laboratory_3)\n",
    "print('Laboratory 4 Mean = ',Laboratory_4)"
   ]
  },
  {
   "cell_type": "code",
   "execution_count": 19,
   "id": "c62c50bd",
   "metadata": {},
   "outputs": [
    {
     "name": "stdout",
     "output_type": "stream",
     "text": [
      "Laboratory_1 > Laboratory_2 =  False\n",
      "Laboratory_2 > Laboratory_3 =  False\n",
      "Laboratory_3 > Laboratory_4 =  True\n",
      "Laboratory_4 > Laboratory_1 =  False\n"
     ]
    }
   ],
   "source": [
    "print('Laboratory_1 > Laboratory_2 = ',Laboratory_1 > Laboratory_2)\n",
    "print('Laboratory_2 > Laboratory_3 = ',Laboratory_2 > Laboratory_3)\n",
    "print('Laboratory_3 > Laboratory_4 = ',Laboratory_3 > Laboratory_4)\n",
    "print('Laboratory_4 > Laboratory_1 = ',Laboratory_4 > Laboratory_1)"
   ]
  },
  {
   "cell_type": "code",
   "execution_count": 20,
   "id": "42b49d78",
   "metadata": {},
   "outputs": [
    {
     "name": "stderr",
     "output_type": "stream",
     "text": [
      "C:\\Users\\kkdk0001\\Anaconda3\\lib\\site-packages\\seaborn\\distributions.py:2619: FutureWarning: `distplot` is a deprecated function and will be removed in a future version. Please adapt your code to use either `displot` (a figure-level function with similar flexibility) or `histplot` (an axes-level function for histograms).\n",
      "  warnings.warn(msg, FutureWarning)\n",
      "C:\\Users\\kkdk0001\\Anaconda3\\lib\\site-packages\\seaborn\\distributions.py:2619: FutureWarning: `distplot` is a deprecated function and will be removed in a future version. Please adapt your code to use either `displot` (a figure-level function with similar flexibility) or `histplot` (an axes-level function for histograms).\n",
      "  warnings.warn(msg, FutureWarning)\n",
      "C:\\Users\\kkdk0001\\Anaconda3\\lib\\site-packages\\seaborn\\distributions.py:2619: FutureWarning: `distplot` is a deprecated function and will be removed in a future version. Please adapt your code to use either `displot` (a figure-level function with similar flexibility) or `histplot` (an axes-level function for histograms).\n",
      "  warnings.warn(msg, FutureWarning)\n",
      "C:\\Users\\kkdk0001\\Anaconda3\\lib\\site-packages\\seaborn\\distributions.py:2619: FutureWarning: `distplot` is a deprecated function and will be removed in a future version. Please adapt your code to use either `displot` (a figure-level function with similar flexibility) or `histplot` (an axes-level function for histograms).\n",
      "  warnings.warn(msg, FutureWarning)\n"
     ]
    },
    {
     "data": {
      "text/plain": [
       "<matplotlib.legend.Legend at 0x25553e0ed00>"
      ]
     },
     "execution_count": 20,
     "metadata": {},
     "output_type": "execute_result"
    },
    {
     "data": {
      "image/png": "[encoded data removed]",
      "text/plain": [
       "<Figure size 432x288 with 1 Axes>"
      ]
     },
     "metadata": {
      "needs_background": "light"
     },
     "output_type": "display_data"
    }
   ],
   "source": [
    "sns.distplot(LabTAT['Laboratory 1'])\n",
    "sns.distplot(LabTAT['Laboratory 2'])\n",
    "sns.distplot(LabTAT['Laboratory 3'])\n",
    "sns.distplot(LabTAT['Laboratory 4'])\n",
    "plt.legend(['Laboratory 1','Laboratory 2','Laboratory 3','Laboratory 4'])"
   ]
  },
  {
   "cell_type": "code",
   "execution_count": 21,
   "id": "bd483012",
   "metadata": {},
   "outputs": [
    {
     "data": {
      "text/plain": [
       "<matplotlib.legend.Legend at 0x25553dcbbb0>"
      ]
     },
     "execution_count": 21,
     "metadata": {},
     "output_type": "execute_result"
    },
    {
     "data": {
      "image/png": "[encoded data removed]",
      "text/plain": [
       "<Figure size 432x288 with 1 Axes>"
      ]
     },
     "metadata": {
      "needs_background": "light"
     },
     "output_type": "display_data"
    }
   ],
   "source": [
    "sns.boxplot(data=[LabTAT['Laboratory 1'],LabTAT['Laboratory 2'],LabTAT['Laboratory 3'],LabTAT['Laboratory 4']],notch=True)\n",
    "plt.legend(['Laboratory 1','Laboratory 2','Laboratory 3','Laboratory 4'])"
   ]
  },
  {
   "cell_type": "code",
   "execution_count": 23,
   "id": "48b808d2",
   "metadata": {},
   "outputs": [
    {
     "name": "stdout",
     "output_type": "stream",
     "text": [
      "     Laboratory 1\n",
      "0          185.35\n",
      "1          170.49\n",
      "2          192.77\n",
      "3          177.33\n",
      "4          193.41\n",
      "..            ...\n",
      "115        178.49\n",
      "116        176.08\n",
      "117        202.48\n",
      "118        182.40\n",
      "119        182.09\n",
      "\n",
      "[120 rows x 1 columns]      Laboratory 1\n",
      "0          185.35\n",
      "1          170.49\n",
      "2          192.77\n",
      "3          177.33\n",
      "4          193.41\n",
      "..            ...\n",
      "115        178.49\n",
      "116        176.08\n",
      "117        202.48\n",
      "118        182.40\n",
      "119        182.09\n",
      "\n",
      "[120 rows x 1 columns]      Laboratory 3\n",
      "0          176.70\n",
      "1          198.45\n",
      "2          201.23\n",
      "3          199.61\n",
      "4          204.63\n",
      "..            ...\n",
      "115        193.80\n",
      "116        215.25\n",
      "117        203.99\n",
      "118        194.52\n",
      "119        221.49\n",
      "\n",
      "[120 rows x 1 columns]      Laboratory 4\n",
      "0          166.13\n",
      "1          160.79\n",
      "2          185.18\n",
      "3          176.42\n",
      "4          152.60\n",
      "..            ...\n",
      "115        172.68\n",
      "116        177.64\n",
      "117        170.27\n",
      "118        150.87\n",
      "119        162.21\n",
      "\n",
      "[120 rows x 1 columns]\n"
     ]
    }
   ],
   "source": [
    "alpha=0.05\n",
    "Lab1=pd.DataFrame(LabTAT['Laboratory 1'])\n",
    "Lab2=pd.DataFrame(LabTAT['Laboratory 2'])\n",
    "Lab3=pd.DataFrame(LabTAT['Laboratory 3'])\n",
    "Lab4=pd.DataFrame(LabTAT['Laboratory 4'])\n",
    "print(Lab1,Lab1,Lab3,Lab4)"
   ]
  },
  {
   "cell_type": "code",
   "execution_count": 25,
   "id": "a1e7ba8a",
   "metadata": {},
   "outputs": [
    {
     "name": "stdout",
     "output_type": "stream",
     "text": [
      "P-Value:[0.47223947] T-Statistic:[118.70421654]\n"
     ]
    }
   ],
   "source": [
    "tStat, pvalue = sp.stats.f_oneway(Lab1,Lab2,Lab3,Lab4)\n",
    "print(\"P-Value:{0} T-Statistic:{1}\".format(pValue,tStat))"
   ]
  },
  {
   "cell_type": "code",
   "execution_count": 27,
   "id": "69ea55d0",
   "metadata": {},
   "outputs": [
    {
     "name": "stdout",
     "output_type": "stream",
     "text": [
      "we accept null hypothesis\n"
     ]
    }
   ],
   "source": [
    "if pValue < 0.05:\n",
    "  print('we reject null hypothesis')\n",
    "else:\n",
    "  print('we accept null hypothesis')"
   ]
  },
  {
   "cell_type": "code",
   "execution_count": 28,
   "id": "464a7159",
   "metadata": {},
   "outputs": [],
   "source": [
    "#Inference is that there no significant difference in the average TAT for all the labs."
   ]
  },
  {
   "cell_type": "code",
   "execution_count": 29,
   "id": "379d2735",
   "metadata": {},
   "outputs": [],
   "source": [
    "# Q3 Sales of products in four different regions is tabulated for males and females. Find if male-female buyer rations are similar across regions."
   ]
  },
  {
   "cell_type": "code",
   "execution_count": 31,
   "id": "0740b721",
   "metadata": {},
   "outputs": [
    {
     "data": {
      "text/html": [
       "<div>\n",
       "<style scoped>\n",
       "    .dataframe tbody tr th:only-of-type {\n",
       "        vertical-align: middle;\n",
       "    }\n",
       "\n",
       "    .dataframe tbody tr th {\n",
       "        vertical-align: top;\n",
       "    }\n",
       "\n",
       "    .dataframe thead th {\n",
       "        text-align: right;\n",
       "    }\n",
       "</style>\n",
       "<table border=\"1\" class=\"dataframe\">\n",
       "  <thead>\n",
       "    <tr style=\"text-align: right;\">\n",
       "      <th></th>\n",
       "      <th>Observed Values</th>\n",
       "      <th>East</th>\n",
       "      <th>West</th>\n",
       "      <th>North</th>\n",
       "      <th>South</th>\n",
       "    </tr>\n",
       "  </thead>\n",
       "  <tbody>\n",
       "    <tr>\n",
       "      <th>0</th>\n",
       "      <td>Males</td>\n",
       "      <td>50</td>\n",
       "      <td>142</td>\n",
       "      <td>131</td>\n",
       "      <td>70</td>\n",
       "    </tr>\n",
       "    <tr>\n",
       "      <th>1</th>\n",
       "      <td>Females</td>\n",
       "      <td>435</td>\n",
       "      <td>1523</td>\n",
       "      <td>1356</td>\n",
       "      <td>750</td>\n",
       "    </tr>\n",
       "  </tbody>\n",
       "</table>\n",
       "</div>"
      ],
      "text/plain": [
       "  Observed Values  East  West  North  South\n",
       "0           Males    50   142    131     70\n",
       "1         Females   435  1523   1356    750"
      ]
     },
     "execution_count": 31,
     "metadata": {},
     "output_type": "execute_result"
    }
   ],
   "source": [
    "BuyerRatio =pd.read_csv('C:\\\\Users\\\\kkdk0001\\\\Desktop\\\\DA\\\\DS\\\\Assignments\\\\Hypotesis Testing\\\\BuyerRatio.csv')\n",
    "BuyerRatio.head()"
   ]
  },
  {
   "cell_type": "code",
   "execution_count": 32,
   "id": "dac8deb5",
   "metadata": {},
   "outputs": [
    {
     "data": {
      "text/html": [
       "<div>\n",
       "<style scoped>\n",
       "    .dataframe tbody tr th:only-of-type {\n",
       "        vertical-align: middle;\n",
       "    }\n",
       "\n",
       "    .dataframe tbody tr th {\n",
       "        vertical-align: top;\n",
       "    }\n",
       "\n",
       "    .dataframe thead th {\n",
       "        text-align: right;\n",
       "    }\n",
       "</style>\n",
       "<table border=\"1\" class=\"dataframe\">\n",
       "  <thead>\n",
       "    <tr style=\"text-align: right;\">\n",
       "      <th></th>\n",
       "      <th>East</th>\n",
       "      <th>West</th>\n",
       "      <th>North</th>\n",
       "      <th>South</th>\n",
       "    </tr>\n",
       "  </thead>\n",
       "  <tbody>\n",
       "    <tr>\n",
       "      <th>count</th>\n",
       "      <td>2.000000</td>\n",
       "      <td>2.000000</td>\n",
       "      <td>2.000000</td>\n",
       "      <td>2.000000</td>\n",
       "    </tr>\n",
       "    <tr>\n",
       "      <th>mean</th>\n",
       "      <td>242.500000</td>\n",
       "      <td>832.500000</td>\n",
       "      <td>743.500000</td>\n",
       "      <td>410.000000</td>\n",
       "    </tr>\n",
       "    <tr>\n",
       "      <th>std</th>\n",
       "      <td>272.236111</td>\n",
       "      <td>976.514465</td>\n",
       "      <td>866.205807</td>\n",
       "      <td>480.832611</td>\n",
       "    </tr>\n",
       "    <tr>\n",
       "      <th>min</th>\n",
       "      <td>50.000000</td>\n",
       "      <td>142.000000</td>\n",
       "      <td>131.000000</td>\n",
       "      <td>70.000000</td>\n",
       "    </tr>\n",
       "    <tr>\n",
       "      <th>25%</th>\n",
       "      <td>146.250000</td>\n",
       "      <td>487.250000</td>\n",
       "      <td>437.250000</td>\n",
       "      <td>240.000000</td>\n",
       "    </tr>\n",
       "    <tr>\n",
       "      <th>50%</th>\n",
       "      <td>242.500000</td>\n",
       "      <td>832.500000</td>\n",
       "      <td>743.500000</td>\n",
       "      <td>410.000000</td>\n",
       "    </tr>\n",
       "    <tr>\n",
       "      <th>75%</th>\n",
       "      <td>338.750000</td>\n",
       "      <td>1177.750000</td>\n",
       "      <td>1049.750000</td>\n",
       "      <td>580.000000</td>\n",
       "    </tr>\n",
       "    <tr>\n",
       "      <th>max</th>\n",
       "      <td>435.000000</td>\n",
       "      <td>1523.000000</td>\n",
       "      <td>1356.000000</td>\n",
       "      <td>750.000000</td>\n",
       "    </tr>\n",
       "  </tbody>\n",
       "</table>\n",
       "</div>"
      ],
      "text/plain": [
       "             East         West        North       South\n",
       "count    2.000000     2.000000     2.000000    2.000000\n",
       "mean   242.500000   832.500000   743.500000  410.000000\n",
       "std    272.236111   976.514465   866.205807  480.832611\n",
       "min     50.000000   142.000000   131.000000   70.000000\n",
       "25%    146.250000   487.250000   437.250000  240.000000\n",
       "50%    242.500000   832.500000   743.500000  410.000000\n",
       "75%    338.750000  1177.750000  1049.750000  580.000000\n",
       "max    435.000000  1523.000000  1356.000000  750.000000"
      ]
     },
     "execution_count": 32,
     "metadata": {},
     "output_type": "execute_result"
    }
   ],
   "source": [
    "BuyerRatio.describe()"
   ]
  },
  {
   "cell_type": "code",
   "execution_count": 33,
   "id": "39b43d82",
   "metadata": {},
   "outputs": [
    {
     "name": "stdout",
     "output_type": "stream",
     "text": [
      "East Mean =  242.5\n",
      "West Mean =  832.5\n",
      "North Mean =  743.5\n",
      "South Mean =  410.0\n"
     ]
    }
   ],
   "source": [
    "East=BuyerRatio['East'].mean()\n",
    "West=BuyerRatio['West'].mean()\n",
    "North=BuyerRatio['North'].mean()\n",
    "South=BuyerRatio['South'].mean()\n",
    "\n",
    "print('East Mean = ',East)\n",
    "print('West Mean = ',West)\n",
    "print('North Mean = ',North)\n",
    "print('South Mean = ',South)"
   ]
  },
  {
   "cell_type": "code",
   "execution_count": 35,
   "id": "7679ec79",
   "metadata": {},
   "outputs": [],
   "source": [
    "# The Null and Alternative Hypothesis\n",
    "\n",
    "#There are no significant differences between the groups' mean Lab values. H0:μ1=μ2=μ3=μ4=μ5\n",
    "\n",
    "#There is a significant difference between the groups' mean Lab values. Ha:μ1≠μ2≠μ3≠μ4"
   ]
  },
  {
   "cell_type": "code",
   "execution_count": 36,
   "id": "9d5ddbef",
   "metadata": {},
   "outputs": [
    {
     "name": "stderr",
     "output_type": "stream",
     "text": [
      "C:\\Users\\kkdk0001\\Anaconda3\\lib\\site-packages\\seaborn\\distributions.py:2619: FutureWarning: `distplot` is a deprecated function and will be removed in a future version. Please adapt your code to use either `displot` (a figure-level function with similar flexibility) or `histplot` (an axes-level function for histograms).\n",
      "  warnings.warn(msg, FutureWarning)\n",
      "C:\\Users\\kkdk0001\\Anaconda3\\lib\\site-packages\\seaborn\\distributions.py:2619: FutureWarning: `distplot` is a deprecated function and will be removed in a future version. Please adapt your code to use either `displot` (a figure-level function with similar flexibility) or `histplot` (an axes-level function for histograms).\n",
      "  warnings.warn(msg, FutureWarning)\n",
      "C:\\Users\\kkdk0001\\Anaconda3\\lib\\site-packages\\seaborn\\distributions.py:2619: FutureWarning: `distplot` is a deprecated function and will be removed in a future version. Please adapt your code to use either `displot` (a figure-level function with similar flexibility) or `histplot` (an axes-level function for histograms).\n",
      "  warnings.warn(msg, FutureWarning)\n",
      "C:\\Users\\kkdk0001\\Anaconda3\\lib\\site-packages\\seaborn\\distributions.py:2619: FutureWarning: `distplot` is a deprecated function and will be removed in a future version. Please adapt your code to use either `displot` (a figure-level function with similar flexibility) or `histplot` (an axes-level function for histograms).\n",
      "  warnings.warn(msg, FutureWarning)\n"
     ]
    },
    {
     "data": {
      "text/plain": [
       "<matplotlib.legend.Legend at 0x25554f6dfa0>"
      ]
     },
     "execution_count": 36,
     "metadata": {},
     "output_type": "execute_result"
    },
    {
     "data": {
      "image/png": "[encoded data removed]",
      "text/plain": [
       "<Figure size 432x288 with 1 Axes>"
      ]
     },
     "metadata": {
      "needs_background": "light"
     },
     "output_type": "display_data"
    }
   ],
   "source": [
    "sns.distplot(BuyerRatio['East'])\n",
    "sns.distplot(BuyerRatio['West'])\n",
    "sns.distplot(BuyerRatio['North'])\n",
    "sns.distplot(BuyerRatio['South'])\n",
    "plt.legend(['East','West','North','South'])"
   ]
  },
  {
   "cell_type": "code",
   "execution_count": 37,
   "id": "e10d4d6d",
   "metadata": {},
   "outputs": [
    {
     "data": {
      "text/plain": [
       "<matplotlib.legend.Legend at 0x25554fc4250>"
      ]
     },
     "execution_count": 37,
     "metadata": {},
     "output_type": "execute_result"
    },
    {
     "data": {
      "image/png": "[encoded data removed]",
      "text/plain": [
       "<Figure size 432x288 with 1 Axes>"
      ]
     },
     "metadata": {
      "needs_background": "light"
     },
     "output_type": "display_data"
    }
   ],
   "source": [
    "sns.boxplot(data=[BuyerRatio['East'],BuyerRatio['West'],BuyerRatio['North'],BuyerRatio['South']],notch=True)\n",
    "plt.legend(['East','West','North','South'])"
   ]
  },
  {
   "cell_type": "code",
   "execution_count": 38,
   "id": "16b7c860",
   "metadata": {},
   "outputs": [
    {
     "name": "stdout",
     "output_type": "stream",
     "text": [
      "[[50, 142, 131, 70], [435, 1523, 1356, 750]]\n"
     ]
    }
   ],
   "source": [
    "alpha=0.05\n",
    "Male = [50,142,131,70]\n",
    "Female=[435,1523,1356,750]\n",
    "Sales=[Male,Female]\n",
    "print(Sales)"
   ]
  },
  {
   "cell_type": "code",
   "execution_count": 39,
   "id": "921bcf99",
   "metadata": {},
   "outputs": [
    {
     "name": "stdout",
     "output_type": "stream",
     "text": [
      "Test t=1.595946 p-value=0.660309\n",
      "Interpret by p-Value\n",
      "we accept null hypothesis\n"
     ]
    }
   ],
   "source": [
    "chiStats = sp.stats.chi2_contingency(Sales)\n",
    "print('Test t=%f p-value=%f' % (chiStats[0], chiStats[1]))\n",
    "print('Interpret by p-Value')\n",
    "if chiStats[1] < 0.05:\n",
    "  print('we reject null hypothesis')\n",
    "else:\n",
    "  print('we accept null hypothesis')"
   ]
  },
  {
   "cell_type": "code",
   "execution_count": 40,
   "id": "df5b80f0",
   "metadata": {},
   "outputs": [],
   "source": [
    "# accept null hypothesis"
   ]
  },
  {
   "cell_type": "code",
   "execution_count": 41,
   "id": "7711bdac",
   "metadata": {},
   "outputs": [
    {
     "name": "stdout",
     "output_type": "stream",
     "text": [
      "Interpret by critical value\n",
      "Null hypothesis cannot be rejected (variables are not related)\n"
     ]
    }
   ],
   "source": [
    "#critical value = 0.1\n",
    "alpha = 0.05\n",
    "critical_value = sp.stats.chi2.ppf(q = 1 - alpha,df=chiStats[2])# Find the critical value for 95% confidence*\n",
    "                      #degree of freedom\n",
    "\n",
    "observed_chi_val = chiStats[0]\n",
    "#if observed chi-square < critical chi-square, then variables are not related\n",
    "#if observed chi-square > critical chi-square, then variables are not independent (and hence may be related).\n",
    "print('Interpret by critical value')\n",
    "if observed_chi_val <= critical_value:\n",
    "    # observed value is not in critical area therefore we accept null hypothesis\n",
    "    print ('Null hypothesis cannot be rejected (variables are not related)')\n",
    "else:\n",
    "    # observed value is in critical area therefore we reject null hypothesis\n",
    "    print ('Null hypothesis cannot be excepted (variables are not independent)')"
   ]
  },
  {
   "cell_type": "code",
   "execution_count": 42,
   "id": "019063a8",
   "metadata": {},
   "outputs": [],
   "source": [
    "# Inference : proportion of male and female across regions is same"
   ]
  },
  {
   "cell_type": "code",
   "execution_count": 43,
   "id": "e34f9916",
   "metadata": {},
   "outputs": [],
   "source": [
    "# Q4 TeleCall uses 4 centers around the globe to process customer order forms. They audit a certain %  of the customer order forms. Any error in order form renders it defective and has to be reworked before processing.  The manager wants to check whether the defective %  varies by centre. Please analyze the data at 5% significance level and help the manager draw appropriate inferences\n"
   ]
  },
  {
   "cell_type": "code",
   "execution_count": 45,
   "id": "e0e26d54",
   "metadata": {},
   "outputs": [
    {
     "data": {
      "text/html": [
       "<div>\n",
       "<style scoped>\n",
       "    .dataframe tbody tr th:only-of-type {\n",
       "        vertical-align: middle;\n",
       "    }\n",
       "\n",
       "    .dataframe tbody tr th {\n",
       "        vertical-align: top;\n",
       "    }\n",
       "\n",
       "    .dataframe thead th {\n",
       "        text-align: right;\n",
       "    }\n",
       "</style>\n",
       "<table border=\"1\" class=\"dataframe\">\n",
       "  <thead>\n",
       "    <tr style=\"text-align: right;\">\n",
       "      <th></th>\n",
       "      <th>Phillippines</th>\n",
       "      <th>Indonesia</th>\n",
       "      <th>Malta</th>\n",
       "      <th>India</th>\n",
       "    </tr>\n",
       "  </thead>\n",
       "  <tbody>\n",
       "    <tr>\n",
       "      <th>0</th>\n",
       "      <td>Error Free</td>\n",
       "      <td>Error Free</td>\n",
       "      <td>Defective</td>\n",
       "      <td>Error Free</td>\n",
       "    </tr>\n",
       "    <tr>\n",
       "      <th>1</th>\n",
       "      <td>Error Free</td>\n",
       "      <td>Error Free</td>\n",
       "      <td>Error Free</td>\n",
       "      <td>Defective</td>\n",
       "    </tr>\n",
       "    <tr>\n",
       "      <th>2</th>\n",
       "      <td>Error Free</td>\n",
       "      <td>Defective</td>\n",
       "      <td>Defective</td>\n",
       "      <td>Error Free</td>\n",
       "    </tr>\n",
       "    <tr>\n",
       "      <th>3</th>\n",
       "      <td>Error Free</td>\n",
       "      <td>Error Free</td>\n",
       "      <td>Error Free</td>\n",
       "      <td>Error Free</td>\n",
       "    </tr>\n",
       "    <tr>\n",
       "      <th>4</th>\n",
       "      <td>Error Free</td>\n",
       "      <td>Error Free</td>\n",
       "      <td>Defective</td>\n",
       "      <td>Error Free</td>\n",
       "    </tr>\n",
       "  </tbody>\n",
       "</table>\n",
       "</div>"
      ],
      "text/plain": [
       "  Phillippines   Indonesia       Malta       India\n",
       "0   Error Free  Error Free   Defective  Error Free\n",
       "1   Error Free  Error Free  Error Free   Defective\n",
       "2   Error Free   Defective   Defective  Error Free\n",
       "3   Error Free  Error Free  Error Free  Error Free\n",
       "4   Error Free  Error Free   Defective  Error Free"
      ]
     },
     "execution_count": 45,
     "metadata": {},
     "output_type": "execute_result"
    }
   ],
   "source": [
    "Customer = pd.read_csv('C:\\\\Users\\\\kkdk0001\\\\Desktop\\\\DA\\\\DS\\\\Assignments\\\\Hypotesis Testing\\\\Costomer+OrderForm.csv')\n",
    "Customer.head()"
   ]
  },
  {
   "cell_type": "code",
   "execution_count": 47,
   "id": "e93a396b",
   "metadata": {},
   "outputs": [
    {
     "data": {
      "text/html": [
       "<div>\n",
       "<style scoped>\n",
       "    .dataframe tbody tr th:only-of-type {\n",
       "        vertical-align: middle;\n",
       "    }\n",
       "\n",
       "    .dataframe tbody tr th {\n",
       "        vertical-align: top;\n",
       "    }\n",
       "\n",
       "    .dataframe thead th {\n",
       "        text-align: right;\n",
       "    }\n",
       "</style>\n",
       "<table border=\"1\" class=\"dataframe\">\n",
       "  <thead>\n",
       "    <tr style=\"text-align: right;\">\n",
       "      <th></th>\n",
       "      <th>Phillippines</th>\n",
       "      <th>Indonesia</th>\n",
       "      <th>Malta</th>\n",
       "      <th>India</th>\n",
       "    </tr>\n",
       "  </thead>\n",
       "  <tbody>\n",
       "    <tr>\n",
       "      <th>count</th>\n",
       "      <td>300</td>\n",
       "      <td>300</td>\n",
       "      <td>300</td>\n",
       "      <td>300</td>\n",
       "    </tr>\n",
       "    <tr>\n",
       "      <th>unique</th>\n",
       "      <td>2</td>\n",
       "      <td>2</td>\n",
       "      <td>2</td>\n",
       "      <td>2</td>\n",
       "    </tr>\n",
       "    <tr>\n",
       "      <th>top</th>\n",
       "      <td>Error Free</td>\n",
       "      <td>Error Free</td>\n",
       "      <td>Error Free</td>\n",
       "      <td>Error Free</td>\n",
       "    </tr>\n",
       "    <tr>\n",
       "      <th>freq</th>\n",
       "      <td>271</td>\n",
       "      <td>267</td>\n",
       "      <td>269</td>\n",
       "      <td>280</td>\n",
       "    </tr>\n",
       "  </tbody>\n",
       "</table>\n",
       "</div>"
      ],
      "text/plain": [
       "       Phillippines   Indonesia       Malta       India\n",
       "count           300         300         300         300\n",
       "unique            2           2           2           2\n",
       "top      Error Free  Error Free  Error Free  Error Free\n",
       "freq            271         267         269         280"
      ]
     },
     "execution_count": 47,
     "metadata": {},
     "output_type": "execute_result"
    }
   ],
   "source": [
    "Customer.describe()"
   ]
  },
  {
   "cell_type": "code",
   "execution_count": 49,
   "id": "f6178862",
   "metadata": {},
   "outputs": [
    {
     "name": "stdout",
     "output_type": "stream",
     "text": [
      "Error Free    271\n",
      "Defective      29\n",
      "Name: Phillippines, dtype: int64\n",
      "Error Free    267\n",
      "Defective      33\n",
      "Name: Indonesia, dtype: int64\n",
      "Error Free    269\n",
      "Defective      31\n",
      "Name: Malta, dtype: int64\n",
      "Error Free    280\n",
      "Defective      20\n",
      "Name: India, dtype: int64\n"
     ]
    }
   ],
   "source": [
    "Phillippines_value=Customer['Phillippines'].value_counts()\n",
    "Indonesia_value=Customer['Indonesia'].value_counts()\n",
    "Malta_value=Customer['Malta'].value_counts()\n",
    "India_value=Customer['India'].value_counts()\n",
    "print(Phillippines_value)\n",
    "print(Indonesia_value)\n",
    "print(Malta_value)\n",
    "print(India_value)"
   ]
  },
  {
   "cell_type": "code",
   "execution_count": 50,
   "id": "4ec2a3a3",
   "metadata": {},
   "outputs": [
    {
     "name": "stdout",
     "output_type": "stream",
     "text": [
      "Test t=3.858961 p-value=0.277102\n",
      "Interpret by p-Value\n",
      "we accept null hypothesis\n"
     ]
    }
   ],
   "source": [
    "chiStats = sp.stats.chi2_contingency([[271,267,269,280],[29,33,31,20]])\n",
    "print('Test t=%f p-value=%f' % (chiStats[0], chiStats[1]))\n",
    "print('Interpret by p-Value')\n",
    "if chiStats[1] < 0.05:\n",
    "  print('we reject null hypothesis')\n",
    "else:\n",
    "  print('we accept null hypothesis')"
   ]
  },
  {
   "cell_type": "code",
   "execution_count": 51,
   "id": "86ae5156",
   "metadata": {},
   "outputs": [
    {
     "name": "stdout",
     "output_type": "stream",
     "text": [
      "Interpret by critical value\n",
      "Null hypothesis cannot be rejected (variables are not related)\n"
     ]
    }
   ],
   "source": [
    "#critical value = 0.1\n",
    "alpha = 0.05\n",
    "critical_value = sp.stats.chi2.ppf(q = 1 - alpha,df=chiStats[2])\n",
    "observed_chi_val = chiStats[0]\n",
    "print('Interpret by critical value')\n",
    "if observed_chi_val <= critical_value:\n",
    "       print ('Null hypothesis cannot be rejected (variables are not related)')\n",
    "else:\n",
    "       print ('Null hypothesis cannot be excepted (variables are not independent)')"
   ]
  },
  {
   "cell_type": "code",
   "execution_count": 52,
   "id": "843bd512",
   "metadata": {},
   "outputs": [],
   "source": [
    "# Inference is that proportion of defective % across the center is same."
   ]
  }
 ],
 "metadata": {
  "kernelspec": {
   "display_name": "Python 3 (ipykernel)",
   "language": "python",
   "name": "python3"
  },
  "language_info": {
   "codemirror_mode": {
    "name": "ipython",
    "version": 3
   },
   "file_extension": ".py",
   "mimetype": "text/x-python",
   "name": "python",
   "nbconvert_exporter": "python",
   "pygments_lexer": "ipython3",
   "version": "3.9.7"
  }
 },
 "nbformat": 4,
 "nbformat_minor": 5
}
