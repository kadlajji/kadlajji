{
 "cells": [
  {
   "cell_type": "code",
   "execution_count": 1,
   "id": "1e8618f9",
   "metadata": {},
   "outputs": [],
   "source": [
    "import pandas as pd"
   ]
  },
  {
   "cell_type": "code",
   "execution_count": 2,
   "id": "7512aa3c",
   "metadata": {},
   "outputs": [],
   "source": [
    "df = pd.read_csv('C:\\\\Users\\\\kkdk0001\\\\Desktop\\\\DA\\\\DS\\\\Project 1 (P162) - Teli Churn\\\\telecommunications_churn.csv')"
   ]
  },
  {
   "cell_type": "code",
   "execution_count": 3,
   "id": "a1b144e6",
   "metadata": {},
   "outputs": [
    {
     "data": {
      "text/html": [
       "<div>\n",
       "<style scoped>\n",
       "    .dataframe tbody tr th:only-of-type {\n",
       "        vertical-align: middle;\n",
       "    }\n",
       "\n",
       "    .dataframe tbody tr th {\n",
       "        vertical-align: top;\n",
       "    }\n",
       "\n",
       "    .dataframe thead th {\n",
       "        text-align: right;\n",
       "    }\n",
       "</style>\n",
       "<table border=\"1\" class=\"dataframe\">\n",
       "  <thead>\n",
       "    <tr style=\"text-align: right;\">\n",
       "      <th></th>\n",
       "      <th>account_length</th>\n",
       "      <th>voice_mail_plan</th>\n",
       "      <th>voice_mail_messages</th>\n",
       "      <th>day_mins</th>\n",
       "      <th>evening_mins</th>\n",
       "      <th>night_mins</th>\n",
       "      <th>international_mins</th>\n",
       "      <th>customer_service_calls</th>\n",
       "      <th>international_plan</th>\n",
       "      <th>day_calls</th>\n",
       "      <th>day_charge</th>\n",
       "      <th>evening_calls</th>\n",
       "      <th>evening_charge</th>\n",
       "      <th>night_calls</th>\n",
       "      <th>night_charge</th>\n",
       "      <th>international_calls</th>\n",
       "      <th>international_charge</th>\n",
       "      <th>total_charge</th>\n",
       "      <th>churn</th>\n",
       "    </tr>\n",
       "  </thead>\n",
       "  <tbody>\n",
       "    <tr>\n",
       "      <th>0</th>\n",
       "      <td>128</td>\n",
       "      <td>1</td>\n",
       "      <td>25</td>\n",
       "      <td>265.1</td>\n",
       "      <td>197.4</td>\n",
       "      <td>244.7</td>\n",
       "      <td>10.0</td>\n",
       "      <td>1</td>\n",
       "      <td>0</td>\n",
       "      <td>110</td>\n",
       "      <td>45.07</td>\n",
       "      <td>99</td>\n",
       "      <td>16.78</td>\n",
       "      <td>91</td>\n",
       "      <td>11.01</td>\n",
       "      <td>3</td>\n",
       "      <td>2.7</td>\n",
       "      <td>75.56</td>\n",
       "      <td>0</td>\n",
       "    </tr>\n",
       "    <tr>\n",
       "      <th>1</th>\n",
       "      <td>107</td>\n",
       "      <td>1</td>\n",
       "      <td>26</td>\n",
       "      <td>161.6</td>\n",
       "      <td>195.5</td>\n",
       "      <td>254.4</td>\n",
       "      <td>13.7</td>\n",
       "      <td>1</td>\n",
       "      <td>0</td>\n",
       "      <td>123</td>\n",
       "      <td>27.47</td>\n",
       "      <td>103</td>\n",
       "      <td>16.62</td>\n",
       "      <td>103</td>\n",
       "      <td>11.45</td>\n",
       "      <td>3</td>\n",
       "      <td>3.7</td>\n",
       "      <td>59.24</td>\n",
       "      <td>0</td>\n",
       "    </tr>\n",
       "  </tbody>\n",
       "</table>\n",
       "</div>"
      ],
      "text/plain": [
       "   account_length  voice_mail_plan  voice_mail_messages  day_mins  \\\n",
       "0             128                1                   25     265.1   \n",
       "1             107                1                   26     161.6   \n",
       "\n",
       "   evening_mins  night_mins  international_mins  customer_service_calls  \\\n",
       "0         197.4       244.7                10.0                       1   \n",
       "1         195.5       254.4                13.7                       1   \n",
       "\n",
       "   international_plan  day_calls  day_charge  evening_calls  evening_charge  \\\n",
       "0                   0        110       45.07             99           16.78   \n",
       "1                   0        123       27.47            103           16.62   \n",
       "\n",
       "   night_calls  night_charge  international_calls  international_charge  \\\n",
       "0           91         11.01                    3                   2.7   \n",
       "1          103         11.45                    3                   3.7   \n",
       "\n",
       "   total_charge  churn  \n",
       "0         75.56      0  \n",
       "1         59.24      0  "
      ]
     },
     "execution_count": 3,
     "metadata": {},
     "output_type": "execute_result"
    }
   ],
   "source": [
    "df.head(2)"
   ]
  },
  {
   "cell_type": "code",
   "execution_count": 4,
   "id": "54cf32d9",
   "metadata": {},
   "outputs": [
    {
     "data": {
      "text/plain": [
       "(3333, 19)"
      ]
     },
     "execution_count": 4,
     "metadata": {},
     "output_type": "execute_result"
    }
   ],
   "source": [
    "df.shape"
   ]
  },
  {
   "cell_type": "code",
   "execution_count": 5,
   "id": "3e74cf05",
   "metadata": {},
   "outputs": [],
   "source": [
    "X=df.iloc[:,0:18]"
   ]
  },
  {
   "cell_type": "code",
   "execution_count": 6,
   "id": "d045680b",
   "metadata": {},
   "outputs": [],
   "source": [
    "import numpy as np \n",
    "from sklearn.decomposition import PCA\n",
    "import matplotlib.pyplot as plt\n",
    "from sklearn.preprocessing import scale"
   ]
  },
  {
   "cell_type": "code",
   "execution_count": 7,
   "id": "d3c40ee6",
   "metadata": {},
   "outputs": [
    {
     "name": "stderr",
     "output_type": "stream",
     "text": [
      "C:\\Users\\kkdk0001\\AppData\\Local\\Temp\\ipykernel_19960\\1133603911.py:1: UserWarning: Pandas doesn't allow columns to be created via a new attribute name - see https://pandas.pydata.org/pandas-docs/stable/indexing.html#attribute-access\n",
      "  X.V= X.values\n"
     ]
    }
   ],
   "source": [
    "X.V= X.values"
   ]
  },
  {
   "cell_type": "code",
   "execution_count": 8,
   "id": "100f6729",
   "metadata": {},
   "outputs": [],
   "source": [
    "X.V=scale(X.V)"
   ]
  },
  {
   "cell_type": "code",
   "execution_count": 9,
   "id": "802b3c03",
   "metadata": {},
   "outputs": [
    {
     "data": {
      "text/plain": [
       "array([[ 0.67648946,  1.6170861 ,  1.23488274, ..., -0.60119509,\n",
       "        -0.0856905 ,  1.53420904],\n",
       "       [ 0.14906505,  1.6170861 ,  1.30794844, ..., -0.60119509,\n",
       "         1.2411686 , -0.01997527],\n",
       "       [ 0.9025285 , -0.61839626, -0.59175986, ...,  0.21153386,\n",
       "         0.69715637,  0.27048197],\n",
       "       ...,\n",
       "       [-1.83505538, -0.61839626, -0.59175986, ...,  0.61789834,\n",
       "         1.3871231 ,  0.78949572],\n",
       "       [ 2.08295458, -0.61839626, -0.59175986, ...,  2.24335625,\n",
       "        -1.87695028, -0.18282178],\n",
       "       [-0.67974475,  1.6170861 ,  1.23488274, ..., -0.19483061,\n",
       "         1.2411686 ,  1.67229526]])"
      ]
     },
     "execution_count": 9,
     "metadata": {},
     "output_type": "execute_result"
    }
   ],
   "source": [
    "X.V"
   ]
  },
  {
   "cell_type": "code",
   "execution_count": 10,
   "id": "6cc775cc",
   "metadata": {},
   "outputs": [
    {
     "name": "stderr",
     "output_type": "stream",
     "text": [
      "C:\\Users\\kkdk0001\\AppData\\Local\\Temp\\ipykernel_19960\\1499988357.py:1: UserWarning: Pandas doesn't allow columns to be created via a new attribute name - see https://pandas.pydata.org/pandas-docs/stable/indexing.html#attribute-access\n",
      "  X.norm=X.V\n"
     ]
    }
   ],
   "source": [
    "X.norm=X.V"
   ]
  },
  {
   "cell_type": "code",
   "execution_count": 32,
   "id": "262b36f3",
   "metadata": {},
   "outputs": [],
   "source": [
    "pca = PCA()"
   ]
  },
  {
   "cell_type": "code",
   "execution_count": 33,
   "id": "ef8be154",
   "metadata": {},
   "outputs": [],
   "source": [
    "pca_values = pca.fit_transform(X.norm)"
   ]
  },
  {
   "cell_type": "code",
   "execution_count": 34,
   "id": "cee6e30d",
   "metadata": {},
   "outputs": [
    {
     "data": {
      "text/plain": [
       "array([1.67315271e-01, 1.13277319e-01, 1.12409332e-01, 1.10020633e-01,\n",
       "       1.06873061e-01, 5.94084213e-02, 5.71298993e-02, 5.59815676e-02,\n",
       "       5.47076907e-02, 5.44135688e-02, 5.35657535e-02, 5.25111414e-02,\n",
       "       2.38587887e-03, 4.02897311e-07, 4.42035720e-08, 1.31408670e-08,\n",
       "       3.28141565e-09, 1.24640152e-32])"
      ]
     },
     "execution_count": 34,
     "metadata": {},
     "output_type": "execute_result"
    }
   ],
   "source": [
    "varx = pca.explained_variance_ratio_\n",
    "varx"
   ]
  },
  {
   "cell_type": "code",
   "execution_count": 35,
   "id": "1f92a89a",
   "metadata": {},
   "outputs": [
    {
     "data": {
      "text/plain": [
       "array([[ 2.67931826e+00, -9.24410147e-01,  1.81407013e-02, ...,\n",
       "         1.80979151e-04,  2.01998352e-04, -3.12448429e-16],\n",
       "       [-7.24224581e-02, -4.11393440e-02, -3.31174350e-01, ...,\n",
       "         3.41508391e-04, -2.29354872e-04,  1.18805533e-15],\n",
       "       [ 4.32448758e-01,  4.23428664e-01, -2.81438697e+00, ...,\n",
       "        -3.70051728e-04,  1.46680742e-04,  7.84707654e-16],\n",
       "       ...,\n",
       "       [ 1.24106776e+00,  2.07633956e+00,  2.52019929e-01, ...,\n",
       "         3.65326116e-04,  2.77016502e-04, -4.49343260e-16],\n",
       "       [-4.92294619e-02, -4.42625906e-01,  1.47797472e-01, ...,\n",
       "         6.50915475e-04,  2.73077669e-04, -2.16273823e-16],\n",
       "       [ 2.84713775e+00,  9.25686506e-01,  4.73248229e-01, ...,\n",
       "        -2.20283029e-04,  1.20052196e-04,  4.35364808e-16]])"
      ]
     },
     "execution_count": 35,
     "metadata": {},
     "output_type": "execute_result"
    }
   ],
   "source": [
    "pca_values"
   ]
  },
  {
   "cell_type": "code",
   "execution_count": 43,
   "id": "4df5a7c4",
   "metadata": {},
   "outputs": [],
   "source": [
    "pca=PCA(n_components = 5)\n",
    "pca_values = pca.fit_transform(X.norm)"
   ]
  },
  {
   "cell_type": "code",
   "execution_count": 44,
   "id": "27569db6",
   "metadata": {},
   "outputs": [
    {
     "data": {
      "text/plain": [
       "array([0.16731527, 0.11327732, 0.11240933, 0.11002063, 0.10687306])"
      ]
     },
     "execution_count": 44,
     "metadata": {},
     "output_type": "execute_result"
    }
   ],
   "source": [
    "var = pca.explained_variance_ratio_\n",
    "var"
   ]
  },
  {
   "cell_type": "code",
   "execution_count": 38,
   "id": "adace506",
   "metadata": {},
   "outputs": [],
   "source": [
    "# Cumulative Sum oF Varaiances"
   ]
  },
  {
   "cell_type": "code",
   "execution_count": 46,
   "id": "b3d3252c",
   "metadata": {},
   "outputs": [
    {
     "data": {
      "text/plain": [
       "array([17., 28., 39., 50., 61.])"
      ]
     },
     "execution_count": 46,
     "metadata": {},
     "output_type": "execute_result"
    }
   ],
   "source": [
    "var1= np.cumsum(np.round(var,2)*100)\n",
    "var1"
   ]
  },
  {
   "cell_type": "code",
   "execution_count": 40,
   "id": "938e4dc9",
   "metadata": {},
   "outputs": [
    {
     "data": {
      "text/plain": [
       "array([17., 28., 39., 50., 61.])"
      ]
     },
     "execution_count": 40,
     "metadata": {},
     "output_type": "execute_result"
    }
   ],
   "source": [
    "(np.round(var1,2)*100)"
   ]
  },
  {
   "cell_type": "code",
   "execution_count": 47,
   "id": "bd87fe87",
   "metadata": {},
   "outputs": [
    {
     "data": {
      "text/plain": [
       "[<matplotlib.lines.Line2D at 0x1adcbca4d90>]"
      ]
     },
     "execution_count": 47,
     "metadata": {},
     "output_type": "execute_result"
    },
    {
     "data": {
      "image/png": "[encoded data removed]",
      "text/plain": [
       "<Figure size 640x480 with 1 Axes>"
      ]
     },
     "metadata": {},
     "output_type": "display_data"
    }
   ],
   "source": [
    "plt.plot(var1)"
   ]
  }
 ],
 "metadata": {
  "kernelspec": {
   "display_name": "Python 3 (ipykernel)",
   "language": "python",
   "name": "python3"
  },
  "language_info": {
   "codemirror_mode": {
    "name": "ipython",
    "version": 3
   },
   "file_extension": ".py",
   "mimetype": "text/x-python",
   "name": "python",
   "nbconvert_exporter": "python",
   "pygments_lexer": "ipython3",
   "version": "3.9.13"
  }
 },
 "nbformat": 4,
 "nbformat_minor": 5
}
